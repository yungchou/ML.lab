{
 "cells": [
  {
   "cell_type": "code",
   "execution_count": 202,
   "metadata": {},
   "outputs": [],
   "source": [
    "import pandas as pd\n",
    "import numpy as np\n",
    "import matplotlib.pyplot as plt\n",
    "%matplotlib inline\n",
    "import seaborn as sns\n",
    "from math import log\n",
    "from sklearn.preprocessing import StandardScaler\n",
    "from sklearn.linear_model import LinearRegression\n",
    "from sklearn import linear_model\n",
    "from scipy.stats import norm\n",
    "import sklearn.feature_selection as fs\n",
    "from sklearn.cross_validation import cross_val_score\n",
    "from sklearn.linear_model import Ridge, RidgeCV, ElasticNet, Lasso, LassoCV, LassoLarsCV, LinearRegression\n",
    "from sklearn.kernel_ridge import KernelRidge\n",
    "from sklearn.tree import DecisionTreeRegressor\n",
    "from sklearn.ensemble import RandomForestRegressor,  GradientBoostingRegressor\n",
    "from sklearn.ensemble import GradientBoostingRegressor, GradientBoostingClassifier\n",
    "from sklearn.model_selection import KFold, cross_val_score, train_test_split\n",
    "from sklearn.base import BaseEstimator, TransformerMixin, RegressorMixin, clone\n",
    "from sklearn.metrics import mean_squared_error as MSE\n",
    "from sklearn.model_selection import train_test_split\n",
    "from sklearn.pipeline import make_pipeline\n",
    "from sklearn.preprocessing import RobustScaler\n",
    "from sklearn.metrics import mean_squared_error"
   ]
  },
  {
   "cell_type": "code",
   "execution_count": 203,
   "metadata": {},
   "outputs": [
    {
     "data": {
      "text/html": [
       "<div>\n",
       "<style scoped>\n",
       "    .dataframe tbody tr th:only-of-type {\n",
       "        vertical-align: middle;\n",
       "    }\n",
       "\n",
       "    .dataframe tbody tr th {\n",
       "        vertical-align: top;\n",
       "    }\n",
       "\n",
       "    .dataframe thead th {\n",
       "        text-align: right;\n",
       "    }\n",
       "</style>\n",
       "<table border=\"1\" class=\"dataframe\">\n",
       "  <thead>\n",
       "    <tr style=\"text-align: right;\">\n",
       "      <th></th>\n",
       "      <th>Id</th>\n",
       "      <th>3SsnPorch</th>\n",
       "      <th>BedroomAbvGr</th>\n",
       "      <th>BldgType</th>\n",
       "      <th>BsmtCond</th>\n",
       "      <th>BsmtExposure</th>\n",
       "      <th>BsmtFinType1</th>\n",
       "      <th>BsmtFinType2</th>\n",
       "      <th>BsmtQual</th>\n",
       "      <th>CentralAir</th>\n",
       "      <th>...</th>\n",
       "      <th>RoofStyle</th>\n",
       "      <th>SaleCondition</th>\n",
       "      <th>SalePrice</th>\n",
       "      <th>SaleType</th>\n",
       "      <th>ScreenPorch</th>\n",
       "      <th>TotalBsmtSF</th>\n",
       "      <th>WoodDeckSF</th>\n",
       "      <th>YearBuilt_age</th>\n",
       "      <th>NonKitchenBedroomAbvGr</th>\n",
       "      <th>BathRooms</th>\n",
       "    </tr>\n",
       "  </thead>\n",
       "  <tbody>\n",
       "    <tr>\n",
       "      <th>0</th>\n",
       "      <td>1</td>\n",
       "      <td>0</td>\n",
       "      <td>3</td>\n",
       "      <td>1Fam</td>\n",
       "      <td>5</td>\n",
       "      <td>1</td>\n",
       "      <td>6</td>\n",
       "      <td>1</td>\n",
       "      <td>7</td>\n",
       "      <td>Y</td>\n",
       "      <td>...</td>\n",
       "      <td>Gable</td>\n",
       "      <td>Normal</td>\n",
       "      <td>208500.0</td>\n",
       "      <td>WD</td>\n",
       "      <td>0</td>\n",
       "      <td>856.0</td>\n",
       "      <td>0</td>\n",
       "      <td>15</td>\n",
       "      <td>4</td>\n",
       "      <td>4</td>\n",
       "    </tr>\n",
       "    <tr>\n",
       "      <th>1</th>\n",
       "      <td>2</td>\n",
       "      <td>0</td>\n",
       "      <td>3</td>\n",
       "      <td>1Fam</td>\n",
       "      <td>5</td>\n",
       "      <td>4</td>\n",
       "      <td>5</td>\n",
       "      <td>1</td>\n",
       "      <td>7</td>\n",
       "      <td>Y</td>\n",
       "      <td>...</td>\n",
       "      <td>Gable</td>\n",
       "      <td>Normal</td>\n",
       "      <td>181500.0</td>\n",
       "      <td>WD</td>\n",
       "      <td>0</td>\n",
       "      <td>1262.0</td>\n",
       "      <td>298</td>\n",
       "      <td>42</td>\n",
       "      <td>2</td>\n",
       "      <td>3</td>\n",
       "    </tr>\n",
       "    <tr>\n",
       "      <th>2</th>\n",
       "      <td>3</td>\n",
       "      <td>0</td>\n",
       "      <td>3</td>\n",
       "      <td>1Fam</td>\n",
       "      <td>5</td>\n",
       "      <td>2</td>\n",
       "      <td>6</td>\n",
       "      <td>1</td>\n",
       "      <td>7</td>\n",
       "      <td>Y</td>\n",
       "      <td>...</td>\n",
       "      <td>Gable</td>\n",
       "      <td>Normal</td>\n",
       "      <td>223500.0</td>\n",
       "      <td>WD</td>\n",
       "      <td>0</td>\n",
       "      <td>920.0</td>\n",
       "      <td>0</td>\n",
       "      <td>17</td>\n",
       "      <td>2</td>\n",
       "      <td>4</td>\n",
       "    </tr>\n",
       "  </tbody>\n",
       "</table>\n",
       "<p>3 rows × 59 columns</p>\n",
       "</div>"
      ],
      "text/plain": [
       "   Id  3SsnPorch  BedroomAbvGr BldgType  BsmtCond  BsmtExposure  BsmtFinType1  \\\n",
       "0   1          0             3     1Fam         5             1             6   \n",
       "1   2          0             3     1Fam         5             4             5   \n",
       "2   3          0             3     1Fam         5             2             6   \n",
       "\n",
       "   BsmtFinType2  BsmtQual CentralAir    ...     RoofStyle SaleCondition  \\\n",
       "0             1         7          Y    ...         Gable        Normal   \n",
       "1             1         7          Y    ...         Gable        Normal   \n",
       "2             1         7          Y    ...         Gable        Normal   \n",
       "\n",
       "   SalePrice  SaleType  ScreenPorch TotalBsmtSF  WoodDeckSF  YearBuilt_age  \\\n",
       "0   208500.0        WD            0       856.0           0             15   \n",
       "1   181500.0        WD            0      1262.0         298             42   \n",
       "2   223500.0        WD            0       920.0           0             17   \n",
       "\n",
       "  NonKitchenBedroomAbvGr  BathRooms  \n",
       "0                      4          4  \n",
       "1                      2          3  \n",
       "2                      2          4  \n",
       "\n",
       "[3 rows x 59 columns]"
      ]
     },
     "execution_count": 203,
     "metadata": {},
     "output_type": "execute_result"
    }
   ],
   "source": [
    "df = pd.read_csv('final_total_data.csv')\n",
    "#df.set_index(['Id'])\n",
    "#df.insert(0,'ID', range(0,len(df)))\n",
    "df.head(3)"
   ]
  },
  {
   "cell_type": "markdown",
   "metadata": {},
   "source": [
    "## Feature Engineering:"
   ]
  },
  {
   "cell_type": "code",
   "execution_count": 204,
   "metadata": {},
   "outputs": [
    {
     "name": "stdout",
     "output_type": "stream",
     "text": [
      "Index(['Id', 'BedroomAbvGr', 'BldgType', 'BsmtCond', 'BsmtExposure',\n",
      "       'BsmtFinType1', 'CentralAir', 'Condition1', 'Electrical', 'ExterCond',\n",
      "       'Exterior1st', 'Fireplaces', 'Foundation', 'GarageCars', 'GarageCond',\n",
      "       'GarageType', 'Heating', 'HeatingQC', 'HouseStyle', 'KitchenAbvGr',\n",
      "       'LandContour', 'LandSlope', 'LotArea', 'MSSubClass', 'MSZoning',\n",
      "       'MasVnrType', 'MoSold', 'Neighborhood', 'OverallCond', 'OverallQual',\n",
      "       'PavedDrive', 'RoofMatl', 'RoofStyle', 'SaleCondition', 'SalePrice',\n",
      "       'SaleType', 'YearBuilt_age', 'NonKitchenBedroomAbvGr', 'BathRooms',\n",
      "       'Total_Living_Area'],\n",
      "      dtype='object')\n"
     ]
    }
   ],
   "source": [
    "# df_1 is the dataframe with the TotalLivingArea and without the lotArea\n",
    "df['Total_Living_Area'] = df['MasVnrArea'] + df['TotalBsmtSF'] + df['LowQualFinSF'] + df['ScreenPorch'] + df['GarageArea'] + df['OpenPorchSF'] + df['EnclosedPorch'] + df['3SsnPorch'] + df['PoolArea'] +df['WoodDeckSF'] + df['GrLivArea'] \n",
    "df.drop(['GarageFinish','MasVnrArea','TotalBsmtSF','LowQualFinSF', 'ScreenPorch','GarageArea', 'OpenPorchSF', 'EnclosedPorch','3SsnPorch', 'PoolArea', 'WoodDeckSF', 'GrLivArea','LotConfig', 'ExterQual','BsmtQual','KitchenQual','GarageQual','FireplaceQu','BsmtFinType2','LotShape'], axis = 1, inplace = True)\n",
    "print(df.columns)"
   ]
  },
  {
   "cell_type": "code",
   "execution_count": 205,
   "metadata": {},
   "outputs": [],
   "source": [
    "dic = {'SBrkr':'SBrkr', 'FuseA':'NotSBrkr', 'FuseF':'NotSBrkr','FuseP':'NotSBrkr', 'Mix':'NotSBrkr'}\n",
    "df['Electrical_clean'] = df['Electrical'].map(dic)"
   ]
  },
  {
   "cell_type": "code",
   "execution_count": 206,
   "metadata": {},
   "outputs": [],
   "source": [
    "dic = {'Attchd':'Attached', 'Detchd':'Deteched', 'BuiltIn':'Other', 'Basement':'Other', '2Types':'Other', 'CarPort':'Other'}\n",
    "df['GarageType_clean'] = df['GarageType'].map(dic)"
   ]
  },
  {
   "cell_type": "code",
   "execution_count": 207,
   "metadata": {},
   "outputs": [],
   "source": [
    "df2 = df.fillna(\"None\")\n",
    "\n",
    "# Deleting outliers\n",
    "dfoutlier = df2.drop(df2[(df2['LotArea']>120000) & (df2['Total_Living_Area']>10000)].index)\n",
    "dfallinput=dfoutlier.drop(columns=['SalePrice'])"
   ]
  },
  {
   "cell_type": "markdown",
   "metadata": {},
   "source": [
    "## Dummified categorical features:"
   ]
  },
  {
   "cell_type": "code",
   "execution_count": 211,
   "metadata": {},
   "outputs": [],
   "source": [
    "dfdumm= pd.get_dummies(dfallinput, drop_first=True)\n",
    "#dfdumm.columns"
   ]
  },
  {
   "cell_type": "code",
   "execution_count": 232,
   "metadata": {},
   "outputs": [
    {
     "name": "stderr",
     "output_type": "stream",
     "text": [
      "C:\\Users\\panka\\Anaconda3\\lib\\site-packages\\pandas\\core\\frame.py:3694: SettingWithCopyWarning: \n",
      "A value is trying to be set on a copy of a slice from a DataFrame\n",
      "\n",
      "See the caveats in the documentation: http://pandas.pydata.org/pandas-docs/stable/indexing.html#indexing-view-versus-copy\n",
      "  errors=errors)\n"
     ]
    }
   ],
   "source": [
    "xtrain=dfdumm[:1460]\n",
    "xtrain.drop(['Id'], axis = 1, inplace = True)\n",
    "xtest=dfdumm[1460:]\n",
    "xtest.drop(['Id'], axis = 1, inplace = True)\n",
    "\n",
    "#train_ID = xtrain['Id']\n",
    "#test_ID = xtest['Id']"
   ]
  },
  {
   "cell_type": "code",
   "execution_count": 213,
   "metadata": {},
   "outputs": [],
   "source": [
    "dftrainoutput=dfoutlier['SalePrice'][:1460]\n",
    "y= dftrainoutput.astype(int)\n",
    "y=np.log1p(y)"
   ]
  },
  {
   "cell_type": "markdown",
   "metadata": {},
   "source": [
    "## Base models score without CV:"
   ]
  },
  {
   "cell_type": "code",
   "execution_count": 214,
   "metadata": {},
   "outputs": [
    {
     "name": "stdout",
     "output_type": "stream",
     "text": [
      "The Linear RMSE are 0.11000677860820132\n",
      "The Ridge RMSE are 0.11000677860820121\n"
     ]
    },
    {
     "name": "stderr",
     "output_type": "stream",
     "text": [
      "C:\\Users\\panka\\Anaconda3\\lib\\site-packages\\sklearn\\linear_model\\coordinate_descent.py:491: ConvergenceWarning: Objective did not converge. You might want to increase the number of iterations. Fitting data with very small alpha may cause precision problems.\n",
      "  ConvergenceWarning)\n"
     ]
    },
    {
     "name": "stdout",
     "output_type": "stream",
     "text": [
      "The Lasso RMSE are 0.11000677863674502\n",
      "The Elastic RMSE are 0.11000677861507947\n"
     ]
    },
    {
     "name": "stderr",
     "output_type": "stream",
     "text": [
      "C:\\Users\\panka\\Anaconda3\\lib\\site-packages\\sklearn\\linear_model\\coordinate_descent.py:491: ConvergenceWarning: Objective did not converge. You might want to increase the number of iterations. Fitting data with very small alpha may cause precision problems.\n",
      "  ConvergenceWarning)\n"
     ]
    }
   ],
   "source": [
    "lm = LinearRegression()\n",
    "ridge = Ridge()\n",
    "lasso = Lasso()\n",
    "net   = ElasticNet()\n",
    "\n",
    "\n",
    "lm.fit(xtrain, y)\n",
    "lm.score(xtrain, y)\n",
    "print('The Linear RMSE are %s' %(np.sqrt(np.mean((y-lm.predict(xtrain))**2))))\n",
    "\n",
    "ridge = linear_model.Ridge(alpha=.000000000000001, normalize=True) # create a lasso instance\n",
    "ridge.fit(xtrain, y) # fit data\n",
    "print('The Ridge RMSE are %s' %(np.sqrt(np.mean((y-ridge.predict(xtrain))**2))))\n",
    "\n",
    "\n",
    "lasso = linear_model.Lasso(alpha=.000000001, normalize=True) # create a lasso instance\n",
    "lasso.fit(xtrain, y) # fit data\n",
    "print('The Lasso RMSE are %s' %(np.sqrt(np.mean((y-lasso.predict(xtrain))**2))))\n",
    "\n",
    "net = linear_model.ElasticNet(alpha = .000000000001, l1_ratio = 0.5)\n",
    "net.fit(xtrain, y) # fit data\n",
    "#print(\"The determination of ElasticNet is: %.4f\" %elastic.score(xtrain, y))\n",
    "print('The Elastic RMSE are %s' %(np.sqrt(np.mean((y-net.predict(xtrain))**2))))"
   ]
  },
  {
   "cell_type": "code",
   "execution_count": null,
   "metadata": {},
   "outputs": [],
   "source": [
    "lm.fit(xtrain, y)\n",
    "lm.score(xtrain, y)\n",
    "print('The Linear RMSE are %s' %(np.sqrt(np.mean((y-lm.predict(xtrain))**2))))"
   ]
  },
  {
   "cell_type": "markdown",
   "metadata": {},
   "source": [
    "## K-Fold cross validation strategy:"
   ]
  },
  {
   "cell_type": "code",
   "execution_count": 215,
   "metadata": {},
   "outputs": [],
   "source": [
    "#Validation function\n",
    "n_folds = 5\n",
    "def rmsle_cv(model):\n",
    "    kf = KFold(n_folds, shuffle=True, random_state=42).get_n_splits(xtrain.values)\n",
    "    rmse= np.sqrt(-cross_val_score(model, xtrain, y, scoring=\"neg_mean_squared_error\", cv=kf))\n",
    "    return(rmse)"
   ]
  },
  {
   "cell_type": "code",
   "execution_count": 216,
   "metadata": {},
   "outputs": [],
   "source": [
    "X_train, X_test, y_train, y_test = train_test_split(xtrain, y, test_size = 0.3, random_state=101)"
   ]
  },
  {
   "cell_type": "markdown",
   "metadata": {},
   "source": [
    "## Base models score with CV:\n",
    "    Base models performance on the data by evaluating the cross-validation rmsle error\n"
   ]
  },
  {
   "cell_type": "code",
   "execution_count": 222,
   "metadata": {},
   "outputs": [],
   "source": [
    "KRR = KernelRidge(alpha=0.6, kernel='polynomial', degree=2, coef0=2.5)\n",
    "lasso = make_pipeline(RobustScaler(), Lasso(alpha =0.0005, random_state=1))\n",
    "ENet = make_pipeline(RobustScaler(), ElasticNet(alpha=0.0005, l1_ratio=.9, random_state=3))\n",
    "GBoost = GradientBoostingRegressor(n_estimators=3000, learning_rate=0.05,\n",
    "                                   max_depth=4, max_features='sqrt',\n",
    "                                   min_samples_leaf=15, min_samples_split=10, \n",
    "                                   loss='huber', random_state =5)"
   ]
  },
  {
   "cell_type": "code",
   "execution_count": 223,
   "metadata": {},
   "outputs": [
    {
     "data": {
      "image/png": "[encoded data removed]",
      "text/plain": [
       "<Figure size 576x432 with 1 Axes>"
      ]
     },
     "metadata": {},
     "output_type": "display_data"
    }
   ],
   "source": [
    "GBoost.fit(X_train, y_train)\n",
    "importances = pd.Series(data = GBoost.feature_importances_, \n",
    "                       index = X_train.columns)\n",
    "importances_sorted = importances.sort_values(ascending = False)\n",
    "importances_sorted[:10].plot(kind = 'barh',figsize=(8,6),color = 'red')\n",
    "plt.title('Feature Importances', fontsize = 22, weight = 'bold', alpha = .75)\n",
    "plt.tick_params(axis = 'both', which = 'major', labelsize = 18)"
   ]
  },
  {
   "cell_type": "code",
   "execution_count": 226,
   "metadata": {},
   "outputs": [
    {
     "name": "stderr",
     "output_type": "stream",
     "text": [
      "C:\\Users\\panka\\Anaconda3\\lib\\site-packages\\sklearn\\linear_model\\ridge.py:152: LinAlgWarning: scipy.linalg.solve\n",
      "Ill-conditioned matrix detected. Result is not guaranteed to be accurate.\n",
      "Reciprocal condition number1.142347e-19\n",
      "  overwrite_a=False)\n",
      "C:\\Users\\panka\\Anaconda3\\lib\\site-packages\\sklearn\\linear_model\\ridge.py:152: LinAlgWarning: scipy.linalg.solve\n",
      "Ill-conditioned matrix detected. Result is not guaranteed to be accurate.\n",
      "Reciprocal condition number2.688515e-19\n",
      "  overwrite_a=False)\n",
      "C:\\Users\\panka\\Anaconda3\\lib\\site-packages\\sklearn\\linear_model\\ridge.py:152: LinAlgWarning: scipy.linalg.solve\n",
      "Ill-conditioned matrix detected. Result is not guaranteed to be accurate.\n",
      "Reciprocal condition number1.098158e-19\n",
      "  overwrite_a=False)\n",
      "C:\\Users\\panka\\Anaconda3\\lib\\site-packages\\sklearn\\linear_model\\ridge.py:152: LinAlgWarning: scipy.linalg.solve\n",
      "Ill-conditioned matrix detected. Result is not guaranteed to be accurate.\n",
      "Reciprocal condition number1.347920e-19\n",
      "  overwrite_a=False)\n",
      "C:\\Users\\panka\\Anaconda3\\lib\\site-packages\\sklearn\\linear_model\\ridge.py:152: LinAlgWarning: scipy.linalg.solve\n",
      "Ill-conditioned matrix detected. Result is not guaranteed to be accurate.\n",
      "Reciprocal condition number9.158694e-20\n",
      "  overwrite_a=False)\n"
     ]
    },
    {
     "name": "stdout",
     "output_type": "stream",
     "text": [
      "Kernel Ridge score: 0.2456 (0.0622)\n",
      "\n",
      "\n",
      "Lasso score: 0.1380 (0.0208)\n",
      "\n",
      "ElasticNet score: 0.1381 (0.0206)\n",
      "\n",
      "Gradient Boosting score: 0.1241 (0.0109)\n",
      "\n"
     ]
    }
   ],
   "source": [
    "score = rmsle_cv(KRR)\n",
    "print(\"Kernel Ridge score: {:.4f} ({:.4f})\\n\".format(score.mean(), score.std()))\n",
    "\n",
    "score = rmsle_cv(lasso)\n",
    "print(\"\\nLasso score: {:.4f} ({:.4f})\\n\".format(score.mean(), score.std()))\n",
    "\n",
    "score = rmsle_cv(ENet)\n",
    "print(\"ElasticNet score: {:.4f} ({:.4f})\\n\".format(score.mean(), score.std()))\n",
    "\n",
    "score = rmsle_cv(GBoost)\n",
    "print(\"Gradient Boosting score: {:.4f} ({:.4f})\\n\".format(score.mean(), score.std()))"
   ]
  },
  {
   "cell_type": "markdown",
   "metadata": {},
   "source": [
    "## Class for average base models: "
   ]
  },
  {
   "cell_type": "code",
   "execution_count": 227,
   "metadata": {},
   "outputs": [],
   "source": [
    "class AveragingModels(BaseEstimator):\n",
    "    def __init__(self, models):\n",
    "        self.models = models\n",
    "        \n",
    "    # we define clones of the original models to fit the data in\n",
    "    def fit(self, X, y):\n",
    "        self.models_ = [clone(x) for x in self.models]\n",
    "        \n",
    "        # Train cloned base models\n",
    "        for model in self.models_:\n",
    "            model.fit(X, y)\n",
    "\n",
    "        return self\n",
    "    \n",
    "    #Now we do the predictions for cloned models and average them\n",
    "    def predict(self, X):\n",
    "        predictions = np.column_stack([\n",
    "            model.predict(X) for model in self.models_\n",
    "        ])\n",
    "        return np.mean(predictions, axis=1)   "
   ]
  },
  {
   "cell_type": "markdown",
   "metadata": {},
   "source": [
    "## Average of four base models (ENet, GBoost, KRR and lasso)"
   ]
  },
  {
   "cell_type": "code",
   "execution_count": 228,
   "metadata": {},
   "outputs": [
    {
     "name": "stderr",
     "output_type": "stream",
     "text": [
      "C:\\Users\\panka\\Anaconda3\\lib\\site-packages\\sklearn\\linear_model\\ridge.py:152: LinAlgWarning: scipy.linalg.solve\n",
      "Ill-conditioned matrix detected. Result is not guaranteed to be accurate.\n",
      "Reciprocal condition number1.142347e-19\n",
      "  overwrite_a=False)\n",
      "C:\\Users\\panka\\Anaconda3\\lib\\site-packages\\sklearn\\linear_model\\ridge.py:152: LinAlgWarning: scipy.linalg.solve\n",
      "Ill-conditioned matrix detected. Result is not guaranteed to be accurate.\n",
      "Reciprocal condition number2.688515e-19\n",
      "  overwrite_a=False)\n",
      "C:\\Users\\panka\\Anaconda3\\lib\\site-packages\\sklearn\\linear_model\\ridge.py:152: LinAlgWarning: scipy.linalg.solve\n",
      "Ill-conditioned matrix detected. Result is not guaranteed to be accurate.\n",
      "Reciprocal condition number1.098158e-19\n",
      "  overwrite_a=False)\n",
      "C:\\Users\\panka\\Anaconda3\\lib\\site-packages\\sklearn\\linear_model\\ridge.py:152: LinAlgWarning: scipy.linalg.solve\n",
      "Ill-conditioned matrix detected. Result is not guaranteed to be accurate.\n",
      "Reciprocal condition number1.347920e-19\n",
      "  overwrite_a=False)\n"
     ]
    },
    {
     "name": "stdout",
     "output_type": "stream",
     "text": [
      " Averaged base models score: 0.1337 (0.0177)\n",
      "\n"
     ]
    },
    {
     "name": "stderr",
     "output_type": "stream",
     "text": [
      "C:\\Users\\panka\\Anaconda3\\lib\\site-packages\\sklearn\\linear_model\\ridge.py:152: LinAlgWarning: scipy.linalg.solve\n",
      "Ill-conditioned matrix detected. Result is not guaranteed to be accurate.\n",
      "Reciprocal condition number9.158694e-20\n",
      "  overwrite_a=False)\n"
     ]
    }
   ],
   "source": [
    "averaged_models = AveragingModels(models = (ENet, GBoost, KRR, lasso))\n",
    "\n",
    "score = rmsle_cv(averaged_models)\n",
    "print(\" Averaged base models score: {:.4f} ({:.4f})\\n\".format(score.mean(), score.std()))"
   ]
  },
  {
   "cell_type": "markdown",
   "metadata": {},
   "source": [
    "## Create rmsle evaluation function:"
   ]
  },
  {
   "cell_type": "code",
   "execution_count": 229,
   "metadata": {},
   "outputs": [],
   "source": [
    "def rmsle(y, y_pred):\n",
    "    return np.sqrt(mean_squared_error(y, y_pred))"
   ]
  },
  {
   "cell_type": "markdown",
   "metadata": {},
   "source": [
    "## Training and Prediction:"
   ]
  },
  {
   "cell_type": "code",
   "execution_count": 233,
   "metadata": {},
   "outputs": [
    {
     "name": "stderr",
     "output_type": "stream",
     "text": [
      "C:\\Users\\panka\\Anaconda3\\lib\\site-packages\\sklearn\\linear_model\\ridge.py:152: LinAlgWarning: scipy.linalg.solve\n",
      "Ill-conditioned matrix detected. Result is not guaranteed to be accurate.\n",
      "Reciprocal condition number2.978023e-19\n",
      "  overwrite_a=False)\n"
     ]
    },
    {
     "name": "stdout",
     "output_type": "stream",
     "text": [
      "0.08445424921859848\n"
     ]
    }
   ],
   "source": [
    "averaged_models.fit(X_train, y_train)\n",
    "train_pred = averaged_models.predict(X_train)\n",
    "test_pred = np.expm1(averaged_models.predict(xtest))\n",
    "print(rmsle(y_train, train_pred))"
   ]
  },
  {
   "cell_type": "markdown",
   "metadata": {},
   "source": [
    "## Test Dataset Prediction:"
   ]
  },
  {
   "cell_type": "code",
   "execution_count": 234,
   "metadata": {},
   "outputs": [],
   "source": [
    "sub = pd.DataFrame()\n",
    "sub['Id'] = test_ID\n",
    "sub['SalePrice'] = test_pred\n",
    "sub.to_csv('submission.csv',index=False)"
   ]
  }
 ],
 "metadata": {
  "kernelspec": {
   "display_name": "Python 3",
   "language": "python",
   "name": "python3"
  },
  "language_info": {
   "codemirror_mode": {
    "name": "ipython",
    "version": 3
   },
   "file_extension": ".py",
   "mimetype": "text/x-python",
   "name": "python",
   "nbconvert_exporter": "python",
   "pygments_lexer": "ipython3",
   "version": "3.6.5"
  }
 },
 "nbformat": 4,
 "nbformat_minor": 2
}
